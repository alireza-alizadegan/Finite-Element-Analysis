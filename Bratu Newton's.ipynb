{
 "cells": [
  {
   "cell_type": "code",
   "execution_count": 10,
   "metadata": {
    "collapsed": false
   },
   "outputs": [
    {
     "name": "stderr",
     "output_type": "stream",
     "text": [
      "DEBUG:FFC:Reusing form from cache.\n",
      "DEBUG:FFC:Reusing form from cache.\n",
      "DEBUG:FFC:Reusing form from cache.\n",
      "DEBUG:FFC:Reusing form from cache.\n",
      "DEBUG:FFC:Reusing form from cache.\n",
      "DEBUG:FFC:Reusing form from cache.\n",
      "DEBUG:FFC:Reusing form from cache.\n",
      "DEBUG:FFC:Reusing form from cache.\n",
      "DEBUG:FFC:Reusing form from cache.\n",
      "DEBUG:FFC:Reusing form from cache.\n",
      "DEBUG:FFC:Reusing form from cache.\n",
      "DEBUG:FFC:Reusing form from cache.\n"
     ]
    },
    {
     "name": "stdout",
     "output_type": "stream",
     "text": [
      "iteration  0: residual = 1.056204e+00\n",
      "iteration  1: residual = 1.286436e-01\n",
      "iteration  2: residual = 6.064790e-03\n",
      "iteration  3: residual = 1.730605e-05\n",
      "0.00665996223538\n"
     ]
    },
    {
     "data": {
      "text/plain": [
       "<function matplotlib.pyplot.show>"
      ]
     },
     "execution_count": 10,
     "metadata": {},
     "output_type": "execute_result"
    },
    {
     "data": {
      "image/png": "[encoded data removed]",
      "text/plain": [
       "<matplotlib.figure.Figure at 0x7f3d3152db90>"
      ]
     },
     "metadata": {},
     "output_type": "display_data"
    }
   ],
   "source": [
    "from dolfin import *\n",
    "import numpy as np\n",
    "get_ipython().magic('matplotlib inline')\n",
    "get_ipython().magic('run /home/fenics/fenics-matplotlib.py')\n",
    "\n",
    "# Define domain and mesh\n",
    "mesh = UnitIntervalMesh(20)  \n",
    "\n",
    "# Define function spaces\n",
    "V = FunctionSpace(mesh, \"CG\", 1)   \n",
    "Vhigh = FunctionSpace(mesh, \"CG\", 4)\n",
    "\n",
    "# Define test and trial functions\n",
    "dU = TrialFunction(V)\n",
    "v = TestFunction(V)\n",
    "U = Function(V)\n",
    "\n",
    "# Define boundary and boundary conditions\n",
    "def left(x, on_boundary):\n",
    "    return abs(x[0]) < DOLFIN_EPS and on_boundary\n",
    "    \n",
    "def right(x, on_boundary):\n",
    "    return abs( x[0]-1.0 ) < DOLFIN_EPS and on_boundary\n",
    "\n",
    "bcs = [DirichletBC(V, '0.0', lambda x, on_boundary: on_boundary)]\n",
    "\n",
    "# Exact solution\n",
    "ue = Expression(\"sin(pi*x[0])\")\n",
    "uex = interpolate(ue, V)\n",
    "uehigh = interpolate(ue, Vhigh)\n",
    "\n",
    "# Initial solution\n",
    "U_init = Expression(\"0\")\n",
    "    \n",
    "# f in Bratu problem \n",
    "lamda = 2\n",
    "f = Expression((\"pow(pi,2)*sin(pi*x[0]) - lamda*exp(sin(pi*x[0]) )\"), lamda = lamda, degree = 1)\n",
    "\n",
    "# Weak form of Bratu problem\n",
    "F = (dot(grad(v), grad(U)) - lamda*exp(U)*v) * dx - f*v*dx\n",
    "J = derivative(F, U, dU)\n",
    "\n",
    "####################### Newton's method manually #######################\n",
    "\n",
    "# Initial solution\n",
    "U.interpolate(U_init)\n",
    "\n",
    "# Tolerance and BC\n",
    "a_tol, r_tol = 1e-7, 1e-10\n",
    "bcs_du = homogenize(bcs)\n",
    "\n",
    "U_inc = Function(V)\n",
    "\n",
    "# Prepare for Newton iterations\n",
    "iters = 0\n",
    "res = 1.0\n",
    "\n",
    "# Perform Newton iterations\n",
    "while res > 1e-4 and iters < 10:\n",
    "    # Determine step direction\n",
    "    A, b = assemble_system(J, -F, bcs_du)\n",
    "    solve(A, U_inc.vector(), b)     \n",
    "    res = b.norm('l2')\n",
    "    \n",
    "    print 'iteration {0:2d}: residual = {1:5e}'.format(iters, res)\n",
    "    fnorm = b.norm('l2')\n",
    "\n",
    "    # Prepare for next iteration\n",
    "    U.vector()[:] += U_inc.vector()    \n",
    "    iters += 1\n",
    "    \n",
    "# Compare numerical and exact solutions\n",
    "err = sqrt(assemble((uehigh - U)*(uehigh-U)*dx))\n",
    "ue_norm = sqrt(assemble(uehigh*uehigh*dx))\n",
    "rel_err = err / ue_norm\n",
    "print rel_err\n",
    "    \n",
    "########################################################################\n",
    "    \n",
    "# Plot solution\n",
    "plt.figure\n",
    "plt.plot(mesh.coordinates(), U.vector().array())\n",
    "plt.plot(mesh.coordinates(), uex.vector().array())\n",
    "plt.legend([\"Numerical Solution\", \"Analytical Solution\"])\n",
    "plt.xlabel('x')\n",
    "plt.ylabel('u')\n",
    "plt.show"
   ]
  }
 ],
 "metadata": {
  "kernelspec": {
   "display_name": "Python 2",
   "language": "python",
   "name": "python2"
  },
  "language_info": {
   "codemirror_mode": {
    "name": "ipython",
    "version": 2
   },
   "file_extension": ".py",
   "mimetype": "text/x-python",
   "name": "python",
   "nbconvert_exporter": "python",
   "pygments_lexer": "ipython2",
   "version": "2.7.6"
  }
 },
 "nbformat": 4,
 "nbformat_minor": 0
}
