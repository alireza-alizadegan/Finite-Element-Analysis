{
 "cells": [
  {
   "cell_type": "code",
   "execution_count": 13,
   "metadata": {
    "collapsed": false
   },
   "outputs": [
    {
     "name": "stderr",
     "output_type": "stream",
     "text": [
      "DEBUG:FFC:Reusing form from cache.\n",
      "DEBUG:FFC:Reusing form from cache.\n"
     ]
    },
    {
     "name": "stdout",
     "output_type": "stream",
     "text": [
      "integral: 1.1838805452\n"
     ]
    }
   ],
   "source": [
    "%matplotlib inline\n",
    "from dolfin import *\n",
    "from math import *\n",
    "import numpy as np\n",
    "\n",
    "# Define domain and mesh\n",
    "a, b = 0, 1\n",
    "mresolution = 240\n",
    "mesh = IntervalMesh(mresolution, a, b)\n",
    "\n",
    "# Define finite element function space\n",
    "p_order = 1;\n",
    "V = FunctionSpace(mesh, \"CG\", p_order)\n",
    "\n",
    "# Extract vertices of the mesh \n",
    "x = V.dofmap().tabulate_all_coordinates(mesh)\n",
    "indices = np.argsort(x)\n",
    "\n",
    "# Express the analytical function\n",
    "u = Expression(\"1 + sin(10*x[0])\", degree=5)\n",
    "\n",
    "# Interpolate u onto V and extract the values in the mesh nodes\n",
    "Iu = interpolate(u, V)\n",
    "Iua = Iu.vector().array()\n",
    "\n",
    "integral = assemble(Iu*dx)\n",
    "\n",
    "print \"integral:\", integral"
   ]
  }
 ],
 "metadata": {
  "kernelspec": {
   "display_name": "Python 2",
   "language": "python",
   "name": "python2"
  },
  "language_info": {
   "codemirror_mode": {
    "name": "ipython",
    "version": 2
   },
   "file_extension": ".py",
   "mimetype": "text/x-python",
   "name": "python",
   "nbconvert_exporter": "python",
   "pygments_lexer": "ipython2",
   "version": "2.7.6"
  }
 },
 "nbformat": 4,
 "nbformat_minor": 0
}
