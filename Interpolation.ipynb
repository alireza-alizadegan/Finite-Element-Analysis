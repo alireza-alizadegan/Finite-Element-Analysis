{
 "cells": [
  {
   "cell_type": "code",
   "execution_count": 2,
   "metadata": {
    "collapsed": false
   },
   "outputs": [
    {
     "name": "stderr",
     "output_type": "stream",
     "text": [
      "DEBUG:FFC:Reusing form from cache.\n"
     ]
    },
    {
     "name": "stdout",
     "output_type": "stream",
     "text": [
      "1.378125\n"
     ]
    }
   ],
   "source": [
    "%matplotlib inline\n",
    "%run /home/fenics/fenics-matplotlib.py\n",
    "from dolfin import *\n",
    "\n",
    "# Define domain and mesh\n",
    "a, b = 0, 1\n",
    "mresolution = 20\n",
    "mesh = IntervalMesh(mresolution, a, b)\n",
    "\n",
    "# Define finite element function space\n",
    "p_order = 1;\n",
    "V = FunctionSpace(mesh, \"CG\", p_order)\n",
    "u = Expression(\"1+4.*x[0]*x[0]-5.*x[0]*x[0]*x[0]\", degree=5)\n",
    "Iu = interpolate(u, V)\n",
    "Iua = Iu.vector().array()\n",
    "print Iua.max()"
   ]
  }
 ],
 "metadata": {
  "kernelspec": {
   "display_name": "Python 2",
   "language": "python",
   "name": "python2"
  },
  "language_info": {
   "codemirror_mode": {
    "name": "ipython",
    "version": 2
   },
   "file_extension": ".py",
   "mimetype": "text/x-python",
   "name": "python",
   "nbconvert_exporter": "python",
   "pygments_lexer": "ipython2",
   "version": "2.7.6"
  }
 },
 "nbformat": 4,
 "nbformat_minor": 0
}
