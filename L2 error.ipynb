{
 "cells": [
  {
   "cell_type": "code",
   "execution_count": 13,
   "metadata": {
    "collapsed": false
   },
   "outputs": [
    {
     "name": "stderr",
     "output_type": "stream",
     "text": [
      "DEBUG:FFC:Reusing form from cache.\n",
      "DEBUG:FFC:Reusing form from cache.\n",
      "DEBUG:FFC:Reusing form from cache.\n",
      "DEBUG:FFC:Reusing form from cache.\n",
      "DEBUG:FFC:Reusing form from cache.\n",
      "DEBUG:FFC:Reusing form from cache.\n",
      "DEBUG:FFC:Reusing form from cache.\n"
     ]
    },
    {
     "name": "stdout",
     "output_type": "stream",
     "text": [
      "9.82593748812e-05\n",
      "4.16350725336e-05\n"
     ]
    }
   ],
   "source": [
    "from dolfin import *\n",
    "from math import *\n",
    "import numpy as np\n",
    "\n",
    "def compute_error(u1, u2):\n",
    "    # Reference mesh\n",
    "    mresolution_ref = 500;\n",
    "    mesh_ref = UnitIntervalMesh(mresolution_ref)\n",
    "    \n",
    "    # Reference function space\n",
    "    V_ref = FunctionSpace(mesh_ref, \"CG\", 1);\n",
    "  \n",
    "    # Evaluate the input functions on the reference mesh\n",
    "    Iu1 = interpolate(u1, V_ref)\n",
    "    Iu2 = interpolate(u2, V_ref)\n",
    "  \t\n",
    "    # Compute the error\n",
    "    e = Iu1-Iu2\n",
    "    error = sqrt(assemble(e*e*dx))\n",
    "    return error\n",
    "\n",
    "# Define domain and mesh\n",
    "a, b = 0, 1\n",
    "mresolution = 100\n",
    "mesh = IntervalMesh(mresolution, a, b)\n",
    "\n",
    "# Define finite element function space\n",
    "p_order = 1;\n",
    "V = FunctionSpace(mesh, \"CG\", p_order)\n",
    "\n",
    "# Extract vertices of the mesh \n",
    "x = V.dofmap().tabulate_all_coordinates(mesh)\n",
    "indices = np.argsort(x)\n",
    "\n",
    "# Express the analytical function\n",
    "u = Expression(\"1 + 4*x[0]*x[0] - 5*x[0]*x[0]*x[0]\", degree=5)\n",
    "\n",
    "# Interpolate u onto V and extract the values in the mesh nodes\n",
    "Iu = interpolate(u, V)\n",
    "Iua = Iu.vector().array()\n",
    "\n",
    "# Project u onto V and extract the values in the mesh nodes\n",
    "Pu = project(u, V)\n",
    "Pua = Pu.vector().array()\n",
    "\n",
    "print compute_error(Iu, u)\n",
    "print compute_error(Pu, u)"
   ]
  }
 ],
 "metadata": {
  "kernelspec": {
   "display_name": "Python 2",
   "language": "python",
   "name": "python2"
  },
  "language_info": {
   "codemirror_mode": {
    "name": "ipython",
    "version": 2
   },
   "file_extension": ".py",
   "mimetype": "text/x-python",
   "name": "python",
   "nbconvert_exporter": "python",
   "pygments_lexer": "ipython2",
   "version": "2.7.6"
  }
 },
 "nbformat": 4,
 "nbformat_minor": 0
}
