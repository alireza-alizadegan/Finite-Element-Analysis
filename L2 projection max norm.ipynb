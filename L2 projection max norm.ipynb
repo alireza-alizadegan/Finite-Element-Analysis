{
 "cells": [
  {
   "cell_type": "code",
   "execution_count": 7,
   "metadata": {
    "collapsed": false
   },
   "outputs": [
    {
     "name": "stdout",
     "output_type": "stream",
     "text": [
      "max norm: 2.11755457894\n",
      "-4.77048955894e-18\n",
      "0.0025\n"
     ]
    },
    {
     "data": {
      "image/png": "[encoded data removed]",
      "text/plain": [
       "<matplotlib.figure.Figure at 0x7facbd3e1850>"
      ]
     },
     "metadata": {},
     "output_type": "display_data"
    }
   ],
   "source": [
    "%matplotlib inline\n",
    "%run /home/fenics/fenics-matplotlib.py\n",
    "from dolfin import *\n",
    "import logging; logging.getLogger('FFC').setLevel(logging.WARNING)\n",
    "\n",
    "# Declare mesh and FEM functions\n",
    "mesh = UnitSquareMesh(10, 10)\n",
    "V = FunctionSpace(mesh, \"CG\", 1)\n",
    "f = Expression(\"1. + sin(10*x[0])*cos(7*x[1])\", degree=3)\n",
    "v = TestFunction(V)\n",
    "u = Function(V) # FEM solution\n",
    "\n",
    "# Weak form of L2 projection\n",
    "r = (u - f)*v*dx\n",
    "\n",
    "# Solving the linear system generated by the L2 projection\n",
    "solve(r == 0, u)\n",
    "\n",
    "# Plot the FEM solution\n",
    "mplot_function(u)\n",
    "plt.colorbar()\n",
    "\n",
    "print \"max norm:\", u.vector().norm('linf') \n",
    "\n",
    "phi = Function(V) \n",
    "phi.vector()[:] = 0\n",
    "phi.vector()[10] = 1\n",
    "mplot_function(phi)\n",
    "plt.colorbar()\n",
    "\n",
    "print assemble((u - f)*phi*dx)\n",
    "print assemble(phi*phi*dx)"
   ]
  }
 ],
 "metadata": {
  "kernelspec": {
   "display_name": "Python 2",
   "language": "python",
   "name": "python2"
  },
  "language_info": {
   "codemirror_mode": {
    "name": "ipython",
    "version": 2
   },
   "file_extension": ".py",
   "mimetype": "text/x-python",
   "name": "python",
   "nbconvert_exporter": "python",
   "pygments_lexer": "ipython2",
   "version": "2.7.6"
  }
 },
 "nbformat": 4,
 "nbformat_minor": 0
}
