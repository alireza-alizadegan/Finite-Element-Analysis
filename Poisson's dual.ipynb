{
 "cells": [
  {
   "cell_type": "code",
   "execution_count": 5,
   "metadata": {
    "collapsed": false
   },
   "outputs": [
    {
     "name": "stdout",
     "output_type": "stream",
     "text": [
      "e1:  -0.0480426666667\n",
      "e2:  -0.0474366070504\n"
     ]
    }
   ],
   "source": [
    "get_ipython().magic('matplotlib inline')\n",
    "get_ipython().magic('run /home/fenics/fenics-matplotlib.py')\n",
    "from dolfin import *; \n",
    "from mshr import *; \n",
    "from IPython.display import display, clear_output; \n",
    "import time;\n",
    "import logging; \n",
    "logging.getLogger('FFC').setLevel(logging.WARNING)\n",
    "\n",
    "resolution=5\n",
    "mesh = UnitSquareMesh(resolution, resolution)\n",
    "\n",
    "def AllBoundary(x, on_boundary):\n",
    "    return on_boundary\n",
    "\n",
    "zero = Constant(0.0)\n",
    "\n",
    "def aform(u, v):\n",
    "    return inner(grad(u), grad(v))\n",
    "\n",
    "def Lform(f, v):\n",
    "    return f*v\n",
    "\n",
    "### Primal problem\n",
    "f = Expression(\"32.*x[0]*(1. - x[0])+32.*x[1]*(1. - x[1])\", domain=mesh, degree=5)\n",
    "ue = Expression(\"16.*x[0]*(1. - x[0])*x[1]*(1. - x[1])\", domain=mesh, degree=5)\n",
    "\n",
    "Qp = FunctionSpace(mesh,'CG',1);\n",
    "bcp = DirichletBC(Qp, zero, AllBoundary)\n",
    "\n",
    "u = TrialFunction(Qp);\n",
    "v = TestFunction(Qp);\n",
    "\n",
    "ap = aform(u, v)*dx \n",
    "Lp = Lform(f, v)*dx \n",
    "\n",
    "U = Function(Qp)\n",
    "solve(ap == Lp, U, bcp)\n",
    "\n",
    "### Dual problem\n",
    "Qd = FunctionSpace(mesh, 'CG', 2);\n",
    "psi = Constant(1.0)\n",
    "bcd = DirichletBC(Qd, zero, AllBoundary)\n",
    "\n",
    "w = TestFunction(Qd);\n",
    "phi = TrialFunction(Qd);\n",
    "ad = aform(w, phi)*dx \n",
    "Ld = Lform(psi, w)*dx\n",
    "phi = Function(Qd)\n",
    "solve(ad == Ld, phi, bcd)\n",
    "\n",
    "e1=assemble((U-ue)*psi*dx)\n",
    "e2=assemble((inner(grad(U),grad(phi))-f*phi)*dx)\n",
    "\n",
    "print \"e1: \", e1\n",
    "print \"e2: \", e2"
   ]
  }
 ],
 "metadata": {
  "kernelspec": {
   "display_name": "Python 2",
   "language": "python",
   "name": "python2"
  },
  "language_info": {
   "codemirror_mode": {
    "name": "ipython",
    "version": 2
   },
   "file_extension": ".py",
   "mimetype": "text/x-python",
   "name": "python",
   "nbconvert_exporter": "python",
   "pygments_lexer": "ipython2",
   "version": "2.7.6"
  }
 },
 "nbformat": 4,
 "nbformat_minor": 0
}
